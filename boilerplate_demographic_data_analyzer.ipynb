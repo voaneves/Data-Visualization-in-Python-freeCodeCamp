{
  "nbformat": 4,
  "nbformat_minor": 0,
  "metadata": {
    "colab": {
      "name": "boilerplate-demographic-data-analyzer.ipynb",
      "provenance": [],
      "collapsed_sections": [],
      "authorship_tag": "ABX9TyOzAr5y0db0ne4ae1vCmhd1",
      "include_colab_link": true
    },
    "kernelspec": {
      "name": "python3",
      "display_name": "Python 3"
    }
  },
  "cells": [
    {
      "cell_type": "markdown",
      "metadata": {
        "id": "view-in-github",
        "colab_type": "text"
      },
      "source": [
        "<a href=\"https://colab.research.google.com/github/voaneves/Data-Visualization-in-Python-freeCodeCamp/blob/main/boilerplate_demographic_data_analyzer.ipynb\" target=\"_parent\"><img src=\"https://colab.research.google.com/assets/colab-badge.svg\" alt=\"Open In Colab\"/></a>"
      ]
    },
    {
      "cell_type": "code",
      "metadata": {
        "id": "f-MChCJbiZ3J"
      },
      "source": [
        "import pandas as pd\r\n",
        "\r\n",
        "\r\n",
        "def calculate_demographic_data(print_data=True):\r\n",
        "    # Read data from file\r\n",
        "    df = pd.read_csv(\"adult.data.csv\")\r\n",
        "    len_df = len(df)\r\n",
        "\r\n",
        "    # How many of each race are represented in this dataset? This should be a Pandas series with race names as the index labels.\r\n",
        "    race_count = df.groupby([\"race\"]).size().sort_values(ascending = False)\r\n",
        "\r\n",
        "    # What is the average age of men?\r\n",
        "    average_age_men = round(df.groupby(\"sex\")[\"age\"].mean()[\"Male\"], 1)\r\n",
        "\r\n",
        "    # What is the percentage of people who have a Bachelor's degree?\r\n",
        "    percentage_bachelors = round((df.groupby(\"education\").size()[\"Bachelors\"]/len_df) * 100, 1)\r\n",
        "\r\n",
        "    # What percentage of people with advanced education (`Bachelors`, `Masters`, or `Doctorate`) make more than 50K?\r\n",
        "    # What percentage of people without advanced education make more than 50K?\r\n",
        "\r\n",
        "    # with and without `Bachelors`, `Masters`, or `Doctorate`\r\n",
        "    higher_education = df.groupby(\"education\").size()[\"Bachelors\"] + df.groupby(\"education\").size()[\"Masters\"] + df.groupby(\"education\").size()[\"Doctorate\"]\r\n",
        "    lower_education = len_df - higher_education\r\n",
        "\r\n",
        "    # percentage with salary >50K\r\n",
        "    ammount_of_higher_rich = df[df[\"salary\"] == \">50K\"].groupby(\"education\")[\"salary\"].count()[\"Bachelors\"] + df[df[\"salary\"] == \">50K\"].groupby(\"education\")[\"salary\"].count()[\"Masters\"] + df[df[\"salary\"] == \">50K\"].groupby(\"education\")[\"salary\"].count()[\"Doctorate\"]\r\n",
        "\r\n",
        "    higher_education_rich = round((ammount_of_higher_rich / higher_education) * 100, 1)\r\n",
        "    lower_education_rich = round(((df[df[\"salary\"] == \">50K\"].groupby(\"education\")[\"salary\"].count().sum() - ammount_of_higher_rich) / lower_education) * 100, 1)\r\n",
        "\r\n",
        "    \r\n",
        "\r\n",
        "    # What is the minimum number of hours a person works per week (hours-per-week feature)?\r\n",
        "    min_work_hours = min(df[\"hours-per-week\"])\r\n",
        "\r\n",
        "    # What percentage of the people who work the minimum number of hours per week have a salary of >50K?\r\n",
        "    num_min_workers = df[df[\"hours-per-week\"] == min_work_hours].groupby(\"hours-per-week\").size().sum()\r\n",
        "\r\n",
        "    rich_percentage = round((df[(df[\"hours-per-week\"] == min_work_hours) & (df[\"salary\"] == \">50K\")].groupby(\"hours-per-week\").size().sum()/num_min_workers) * 100, 1)\r\n",
        "\r\n",
        "    # What country has the highest percentage of people that earn >50K?\r\n",
        "    earnings_by_country = df[df[\"salary\"] == \">50K\"][\"native-country\"].value_counts()\r\n",
        "    count_by_country = df['native-country'].value_counts()\r\n",
        "    percentage_by_country = (earnings_by_country / count_by_country * 100)\r\n",
        "    \r\n",
        "    highest_earning_country = percentage_by_country.idxmax()\r\n",
        "    highest_earning_country_percentage = round(percentage_by_country.max(), 1)\r\n",
        "\r\n",
        "    # Identify the most popular occupation for those who earn >50K in India.\r\n",
        "    top_IN_occupation = df[(df[\"salary\"] == \">50K\") & (df[\"native-country\"] == \"India\")].groupby(\"occupation\")[\"occupation\"].count().idxmax()\r\n",
        "\r\n",
        "    # DO NOT MODIFY BELOW THIS LINE\r\n",
        "\r\n",
        "    if print_data:\r\n",
        "        print(\"Number of each race:\\n\", race_count) \r\n",
        "        print(\"Average age of men:\", average_age_men)\r\n",
        "        print(f\"Percentage with Bachelors degrees: {percentage_bachelors}%\")\r\n",
        "        print(f\"Percentage with higher education that earn >50K: {higher_education_rich}%\")\r\n",
        "        print(f\"Percentage without higher education that earn >50K: {lower_education_rich}%\")\r\n",
        "        print(f\"Min work time: {min_work_hours} hours/week\")\r\n",
        "        print(f\"Percentage of rich among those who work fewest hours: {rich_percentage}%\")\r\n",
        "        print(\"Country with highest percentage of rich:\", highest_earning_country)\r\n",
        "        print(f\"Highest percentage of rich people in country: {highest_earning_country_percentage}%\")\r\n",
        "        print(\"Top occupations in India:\", top_IN_occupation)\r\n",
        "\r\n",
        "    return {\r\n",
        "        'race_count': race_count,\r\n",
        "        'average_age_men': average_age_men,\r\n",
        "        'percentage_bachelors': percentage_bachelors,\r\n",
        "        'higher_education_rich': higher_education_rich,\r\n",
        "        'lower_education_rich': lower_education_rich,\r\n",
        "        'min_work_hours': min_work_hours,\r\n",
        "        'rich_percentage': rich_percentage,\r\n",
        "        'highest_earning_country': highest_earning_country,\r\n",
        "        'highest_earning_country_percentage':\r\n",
        "        highest_earning_country_percentage,\r\n",
        "        'top_IN_occupation': top_IN_occupation\r\n",
        "    }\r\n"
      ],
      "execution_count": null,
      "outputs": []
    }
  ]
}