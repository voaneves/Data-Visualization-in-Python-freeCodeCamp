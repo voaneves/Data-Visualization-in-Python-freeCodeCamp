{
  "nbformat": 4,
  "nbformat_minor": 0,
  "metadata": {
    "colab": {
      "name": "boilerplate-mean-variance-std-freecodecamp",
      "provenance": [],
      "collapsed_sections": [],
      "authorship_tag": "ABX9TyNQLlXVlkOpg9YG8vprzO0V",
      "include_colab_link": true
    },
    "kernelspec": {
      "name": "python3",
      "display_name": "Python 3"
    }
  },
  "cells": [
    {
      "cell_type": "markdown",
      "metadata": {
        "id": "view-in-github",
        "colab_type": "text"
      },
      "source": [
        "<a href=\"https://colab.research.google.com/github/voaneves/Data-Visualization-in-Python-freeCodeCamp/blob/main/boilerplate_mean_variance_std_freecodecamp.ipynb\" target=\"_parent\"><img src=\"https://colab.research.google.com/assets/colab-badge.svg\" alt=\"Open In Colab\"/></a>"
      ]
    },
    {
      "cell_type": "code",
      "metadata": {
        "colab": {
          "base_uri": "https://localhost:8080/"
        },
        "id": "JfoeYcvcU2WW",
        "outputId": "936556f0-31ff-4c86-c70c-8235ece8a2fb"
      },
      "source": [
        "import numpy as np\r\n",
        "\r\n",
        "list = [2,6,2,8,4,0,1,5,7]\r\n",
        "\r\n",
        "def calculate(list):\r\n",
        "    if(len(list) < 9):\r\n",
        "      raise ValueError('List must contain nine numbers.')\r\n",
        "      \r\n",
        "    matrix = np.array(list)\r\n",
        "    matrix.shape = (3, 3)\r\n",
        "\r\n",
        "    calculated_mean = [matrix.mean(axis = 0).tolist(), matrix.mean(axis = 1).tolist(), matrix.mean()]\r\n",
        "    calculated_var = [matrix.var(axis = 0).tolist(), matrix.var(axis = 1).tolist(), matrix.var()]\r\n",
        "    calculated_std = [matrix.std(axis = 0).tolist(), matrix.std(axis = 1).tolist(), matrix.std()]\r\n",
        "    calculated_amax = [np.amax(matrix, axis = 0).tolist(), np.amax(matrix, axis = 1).tolist(), np.amax(matrix)]\r\n",
        "    calculated_amin = [np.amin(matrix, axis = 0).tolist(), np.amin(matrix, axis = 1).tolist(), np.amin(matrix)]\r\n",
        "    calculated_sum = [np.sum(matrix, axis = 0).tolist(), np.sum(matrix, axis = 1).tolist(), np.sum(matrix)]\r\n",
        "\r\n",
        "    calculations = {}\r\n",
        "    calculations[\"mean\"] = calculated_mean\r\n",
        "    calculations[\"variance\"] = calculated_var\r\n",
        "    calculations[\"standard deviation\"] = calculated_std\r\n",
        "    calculations[\"max\"] = calculated_amax\r\n",
        "    calculations[\"min\"] = calculated_amin\r\n",
        "    calculations[\"sum\"] = calculated_sum\r\n",
        "\r\n",
        "    return calculations\r\n",
        "\r\n",
        "\r\n",
        "calculate(list)"
      ],
      "execution_count": null,
      "outputs": [
        {
          "output_type": "execute_result",
          "data": {
            "text/plain": [
              "{'max': [[8, 6, 7], [6, 8, 7], 8],\n",
              " 'mean': [[3.6666666666666665, 5.0, 3.0],\n",
              "  [3.3333333333333335, 4.0, 4.333333333333333],\n",
              "  3.888888888888889],\n",
              " 'min': [[1, 4, 0], [2, 0, 1], 0],\n",
              " 'std': [[3.091206165165235, 0.816496580927726, 2.943920288775949],\n",
              "  [1.8856180831641267, 3.265986323710904, 2.494438257849294],\n",
              "  2.6434171674156266],\n",
              " 'sum': [[11, 15, 9], [10, 12, 13], 35],\n",
              " 'var': [[9.555555555555557, 0.6666666666666666, 8.666666666666666],\n",
              "  [3.555555555555556, 10.666666666666666, 6.222222222222221],\n",
              "  6.987654320987654]}"
            ]
          },
          "metadata": {
            "tags": []
          },
          "execution_count": 19
        }
      ]
    }
  ]
}