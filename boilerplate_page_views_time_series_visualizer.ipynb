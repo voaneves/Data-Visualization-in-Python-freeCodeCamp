{
  "nbformat": 4,
  "nbformat_minor": 0,
  "metadata": {
    "colab": {
      "name": "boilerplate_page_views_time_series_visualizer.ipynb",
      "provenance": [],
      "collapsed_sections": [],
      "authorship_tag": "ABX9TyOCUEdLr356QCIGaYEyQesG",
      "include_colab_link": true
    },
    "kernelspec": {
      "name": "python3",
      "display_name": "Python 3"
    }
  },
  "cells": [
    {
      "cell_type": "markdown",
      "metadata": {
        "id": "view-in-github",
        "colab_type": "text"
      },
      "source": [
        "<a href=\"https://colab.research.google.com/github/voaneves/Data-Visualization-in-Python-freeCodeCamp/blob/main/boilerplate_page_views_time_series_visualizer.ipynb\" target=\"_parent\"><img src=\"https://colab.research.google.com/assets/colab-badge.svg\" alt=\"Open In Colab\"/></a>"
      ]
    },
    {
      "cell_type": "code",
      "metadata": {
        "id": "ESeNbCd216lM"
      },
      "source": [
        "import matplotlib.pyplot as plt\r\n",
        "import pandas as pd\r\n",
        "import seaborn as sns\r\n",
        "from pandas.plotting import register_matplotlib_converters\r\n",
        "register_matplotlib_converters()\r\n",
        "\r\n",
        "# Import data (Make sure to parse dates. Consider setting index column to 'date'.)\r\n",
        "df = pd.read_csv(\"fcc-forum-pageviews.csv\", parse_dates = ['date'], index_col= \"date\")\r\n",
        "\r\n",
        "# Clean data\r\n",
        "df = df[(df[\"value\"] >= df[\"value\"].quantile(0.025)) &\r\n",
        "        (df[\"value\"] <= df[\"value\"].quantile(0.975))]\r\n",
        "\r\n",
        "def draw_line_plot():\r\n",
        "    # Draw line plot\r\n",
        "    fig, axs = plt.subplots(figsize = (20, 10))\r\n",
        "\r\n",
        "#   fig.set_figwidth(15)\r\n",
        "#   fig.set_figheight(5)\r\n",
        "\r\n",
        "    plt.title('Daily freeCodeCamp Forum Page Views 5/2016-12/2019')\r\n",
        "\r\n",
        "    plt.xlabel('Date')\r\n",
        "    plt.ylabel('Page Views')\r\n",
        "    plt.plot(df.index, df['value'], color = 'r', linewidth = 1)\r\n",
        "\r\n",
        "    # Save image and return fig (don't change this part)\r\n",
        "    fig.savefig('line_plot.png')\r\n",
        "\r\n",
        "    return fig\r\n",
        "\r\n",
        "def draw_bar_plot():\r\n",
        "    # Copy and modify data for monthly bar plot\r\n",
        "    df_bar = df.copy()\r\n",
        "    df[\"month\"] = df.index.month\r\n",
        "    df[\"year\"] = df.index.year\r\n",
        "    df_bar = df.groupby([\"year\", \"month\"])[\"value\"].mean()\r\n",
        "    df_bar = df_bar.unstack()\r\n",
        "    \r\n",
        "    # Draw bar plot\r\n",
        "    fig = df_bar.plot(kind = \"bar\", legend = True).figure\r\n",
        "    plt.xlabel(\"Years\")\r\n",
        "    plt.ylabel(\"Average Page Views\")\r\n",
        "\r\n",
        "    plt.legend(title=\"Months\", labels = ['January', 'February', 'March', 'April', 'May', 'June', 'July', 'August', 'September', 'October', 'November', 'December'])\r\n",
        "\r\n",
        "    # Save image and return fig (don't change this part)\r\n",
        "    fig.savefig('bar_plot.png')\r\n",
        "\r\n",
        "    return fig\r\n",
        "\r\n",
        "def draw_box_plot():\r\n",
        "    # Prepare data for box plots (this part is done!)\r\n",
        "    df_box = df.copy()\r\n",
        "    df_box.reset_index(inplace = True)\r\n",
        "    df_box[\"year\"] = [d.year for d in df_box.date]\r\n",
        "    df_box[\"month\"] = [d.strftime('%b') for d in df_box.date]\r\n",
        "\r\n",
        "    # Draw box plots (using Seaborn)\r\n",
        "    df_box[\"smonth\"] = [d.strftime('%m')for d in df_box.date]\r\n",
        "    df_box = df_box.sort_values(by = \"smonth\")\r\n",
        "    \r\n",
        "    fig, (ax1, ax2) = plt.subplots(1, 2)\r\n",
        "\r\n",
        "    ax1.set_title(\"Year-wise Box Plot (Trend)\")\r\n",
        "    ax2.set_title(\"Month-wise Box Plot (Seasonality)\")\r\n",
        "\r\n",
        "    ax1 = sns.boxplot(x = df_box.year, y = df_box.value, ax = ax1)\r\n",
        "    ax1.set_xlabel('Year')\r\n",
        "    ax1.set_ylabel('Page Views')\r\n",
        "\r\n",
        "    ax2 = sns.boxplot(x = \"month\", y = \"value\", data = df_box, ax = ax2)\r\n",
        "    ax2.set_xlabel('Month')\r\n",
        "    ax2.set_ylabel('Page Views')\r\n",
        "\r\n",
        "    # Save image and return fig (don't change this part)\r\n",
        "    fig.savefig('box_plot.png')\r\n",
        "    \r\n",
        "    return fig\r\n"
      ],
      "execution_count": null,
      "outputs": []
    }
  ]
}