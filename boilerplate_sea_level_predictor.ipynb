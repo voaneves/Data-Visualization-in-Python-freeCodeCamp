{
  "nbformat": 4,
  "nbformat_minor": 0,
  "metadata": {
    "colab": {
      "name": "boilerplate_sea_level_predictor.ipynb",
      "provenance": [],
      "authorship_tag": "ABX9TyOPOomVVX9FniHPoczySmWj",
      "include_colab_link": true
    },
    "kernelspec": {
      "name": "python3",
      "display_name": "Python 3"
    }
  },
  "cells": [
    {
      "cell_type": "markdown",
      "metadata": {
        "id": "view-in-github",
        "colab_type": "text"
      },
      "source": [
        "<a href=\"https://colab.research.google.com/github/voaneves/Data-Visualization-in-Python-freeCodeCamp/blob/main/boilerplate_sea_level_predictor.ipynb\" target=\"_parent\"><img src=\"https://colab.research.google.com/assets/colab-badge.svg\" alt=\"Open In Colab\"/></a>"
      ]
    },
    {
      "cell_type": "code",
      "metadata": {
        "id": "auScX6xm4v-u"
      },
      "source": [
        "import pandas as pd\r\n",
        "import matplotlib.pyplot as plt\r\n",
        "from scipy.stats import linregress\r\n",
        "\r\n",
        "def draw_plot():\r\n",
        "    # Read data from file\r\n",
        "    df = pd.read_csv(\"epa-sea-level.csv\")\r\n",
        "    \r\n",
        "    x = df['Year']\r\n",
        "    y = df['CSIRO Adjusted Sea Level']\r\n",
        "    \r\n",
        "    x2 = df[(df.Year>=2000)]['Year']\r\n",
        "    y2 = df[(df.Year>=2000)]['CSIRO Adjusted Sea Level']\r\n",
        "    \r\n",
        "    all_years = np.arange(1880, 2051, 1)\r\n",
        "    compressed_years = np.arange(2000, 2051, 1)\r\n",
        "\r\n",
        "    # Create scatter plot\r\n",
        "    plt.scatter(x = x, y = y)\r\n",
        "\r\n",
        "    # Create first line of best fit\r\n",
        "    slope, intercept, r_value, p_value, std_err = linregress(x, y)\r\n",
        "    y_pred = [slope * xi + intercept for xi in all_years]\r\n",
        "    plt.plot(all_years, y_pred, color = \"yellow\", label = \"Prediction 1\")\r\n",
        "\r\n",
        "    # Create second line of best fit\r\n",
        "    slope, intercept, r_value, p_value, std_err = linregress(x2, y2)\r\n",
        "    y_pred = [slope * xi + intercept for xi in compressed_years]\r\n",
        "    plt.plot(compressed_years, y_pred, color = \"purple\", label = \"Prediction 2\")\r\n",
        "\r\n",
        "    # Add labels and title\r\n",
        "    plt.title('Rise in Sea Level')\r\n",
        "    plt.xlabel('Year')\r\n",
        "    plt.ylabel('Sea Level (inches)')\r\n",
        "\r\n",
        "    # Save plot and return data for testing (DO NOT MODIFY)\r\n",
        "    plt.savefig('sea_level_plot.png')\r\n",
        "\r\n",
        "    return plt.gca()"
      ],
      "execution_count": null,
      "outputs": []
    }
  ]
}