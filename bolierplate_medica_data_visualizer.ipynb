{
  "nbformat": 4,
  "nbformat_minor": 0,
  "metadata": {
    "colab": {
      "name": "bolierplate_medica_data_visualizer.ipynb",
      "provenance": [],
      "authorship_tag": "ABX9TyN7jB9wlrtnb4USR+2JOoga",
      "include_colab_link": true
    },
    "kernelspec": {
      "name": "python3",
      "display_name": "Python 3"
    }
  },
  "cells": [
    {
      "cell_type": "markdown",
      "metadata": {
        "id": "view-in-github",
        "colab_type": "text"
      },
      "source": [
        "<a href=\"https://colab.research.google.com/github/voaneves/Data-Visualization-in-Python-freeCodeCamp/blob/main/bolierplate_medica_data_visualizer.ipynb\" target=\"_parent\"><img src=\"https://colab.research.google.com/assets/colab-badge.svg\" alt=\"Open In Colab\"/></a>"
      ]
    },
    {
      "cell_type": "code",
      "metadata": {
        "id": "AS34l4MiG0ts"
      },
      "source": [
        "import pandas as pd\r\n",
        "import seaborn as sns\r\n",
        "import matplotlib.pyplot as plt\r\n",
        "import numpy as np\r\n",
        "\r\n",
        "# Import data\r\n",
        "df = pd.read_csv(\"medical_examination.csv\")\r\n",
        "\r\n",
        "# Add 'overweight' column\r\n",
        "df['overweight'] = (df['weight'] / ((df['height'] / 100) ** 2) > 25).astype(int)\r\n",
        "\r\n",
        "# Normalize data by making 0 always good and 1 always bad. If the value of 'cholestorol' or 'gluc' is 1, make the value 0. If the value is more than 1, make the value 1.\r\n",
        "df['cholesterol'] = (df['cholesterol'] > 1).astype(int)\r\n",
        "df['gluc'] = (df['gluc'] > 1).astype(int)\r\n",
        "\r\n",
        "# Draw Categorical Plot\r\n",
        "def draw_cat_plot():\r\n",
        "    # Create DataFrame for cat plot using `pd.melt` using just the values from 'cholesterol', 'gluc', 'smoke', 'alco', 'active', and 'overweight'.\r\n",
        "    df_cat =  pd.melt(df, id_vars = ['cardio'], value_vars = ['active',\r\n",
        "                                                              'alco','cholesterol','gluc', 'overweight', 'smoke']\r\n",
        "        )\r\n",
        "\r\n",
        "\r\n",
        "    # Group and reformat the data to split it by 'cardio'. Show the counts of each feature. You will have to rename one of the collumns for the catplot to work correctly.\r\n",
        "    df_cat = pd.DataFrame(df_cat.groupby(['cardio',\r\n",
        "                                          'variable',\r\n",
        "                                          'value'])['value'].count()).rename(columns = {'value': 'total'}).reset_index()\r\n",
        "\r\n",
        "    # Draw the catplot with 'sns.catplot()'\r\n",
        "    g = sns.catplot(x = 'variable',\r\n",
        "                    y = 'total', \r\n",
        "                    hue = 'value',\r\n",
        "                    col = 'cardio',\r\n",
        "                    data = df_cat,\r\n",
        "                    kind = 'bar'\r\n",
        "        )\r\n",
        "    fig = g.fig\r\n",
        "\r\n",
        "    # Do not modify the next two lines\r\n",
        "    fig.savefig('catplot.png')\r\n",
        "    \r\n",
        "    return fig\r\n",
        "\r\n",
        "# Draw Heat Map\r\n",
        "def draw_heat_map():\r\n",
        "    # Clean the data\r\n",
        "    df_heat = df[(df['ap_lo'] <= df['ap_hi'])\r\n",
        "                 & (df['height'] >= df['height'].quantile(0.025))\r\n",
        "                 & (df['height'] <= df['height'].quantile(0.975))\r\n",
        "                 & (df['weight'] >= df['weight'].quantile(0.025))\r\n",
        "                 & (df['weight'] <= df['weight'].quantile(0.975))]\r\n",
        "\r\n",
        "    # Calculate the correlation matrix\r\n",
        "    corr = df_heat.corr()\r\n",
        "\r\n",
        "    # Generate a mask for the upper triangle\r\n",
        "    mask = np.zeros_like(corr)\r\n",
        "    mask[np.triu_indices_from(mask)] = True\r\n",
        "\r\n",
        "    # Set up the matplotlib figure\r\n",
        "    fig, ax = plt.subplots(figsize = (12, 12))\r\n",
        "\r\n",
        "    # Draw the heatmap with 'sns.heatmap()'\r\n",
        "\r\n",
        "    ax = sns.heatmap(corr,\r\n",
        "                     annot = True,\r\n",
        "                     fmt = '.1f',\r\n",
        "                     mask = mask,\r\n",
        "                     square = True,\r\n",
        "                     center = 0,\r\n",
        "        )\r\n",
        "\r\n",
        "    # Do not modify the next two lines\r\n",
        "    fig.savefig('heatmap.png')\r\n",
        "    \r\n",
        "    return fig\r\n"
      ],
      "execution_count": null,
      "outputs": []
    }
  ]
}